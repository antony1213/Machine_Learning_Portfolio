{
 "cells": [
  {
   "cell_type": "code",
   "execution_count": 84,
   "metadata": {},
   "outputs": [],
   "source": [
    "#Create DataFrame\n",
    "import pandas as pd\n",
    "import numpy as np\n",
    "from sklearn.preprocessing import Imputer\n",
    "\n",
    "df = pd.read_csv('../Datasets/auto-mpg.csv')\n",
    "df.drop('car name', axis=1, inplace=True)\n",
    "df2 = df.dropna()"
   ]
  },
  {
   "cell_type": "code",
   "execution_count": 85,
   "metadata": {},
   "outputs": [],
   "source": [
    "# Create an imputer object that looks for 'Nan' values, then replaces them with the mean value of the feature by columns (axis=0)\n",
    "mean_imputer = Imputer(missing_values='NaN', strategy='mean', axis=0)\n",
    "\n",
    "# Train the imputor on the df dataset\n",
    "mean_imputer = mean_imputer.fit(df)\n",
    "\n",
    "# Apply the imputer to the df dataset\n",
    "imputed_df = mean_imputer.transform(df.values)\n",
    "\n",
    "# View the data\n",
    "cleaned_df = pd.DataFrame(imputed_df, columns = df.columns)"
   ]
  },
  {
   "cell_type": "code",
   "execution_count": 86,
   "metadata": {},
   "outputs": [
    {
     "name": "stdout",
     "output_type": "stream",
     "text": [
      "                            OLS Regression Results                            \n",
      "==============================================================================\n",
      "Dep. Variable:                    mpg   R-squared:                       0.981\n",
      "Model:                            OLS   Adj. R-squared:                  0.981\n",
      "Method:                 Least Squares   F-statistic:                     2901.\n",
      "Date:                Sun, 29 Jul 2018   Prob (F-statistic):               0.00\n",
      "Time:                        23:33:20   Log-Likelihood:                -1052.4\n",
      "No. Observations:                 398   AIC:                             2119.\n",
      "Df Residuals:                     391   BIC:                             2147.\n",
      "Df Model:                           7                                         \n",
      "Covariance Type:            nonrobust                                         \n",
      "================================================================================\n",
      "                   coef    std err          t      P>|t|      [0.025      0.975]\n",
      "--------------------------------------------------------------------------------\n",
      "cylinders       -0.4606      0.317     -1.451      0.148      -1.085       0.164\n",
      "displacement     0.0116      0.007      1.667      0.096      -0.002       0.025\n",
      "horsepower      -0.0329      0.012     -2.748      0.006      -0.056      -0.009\n",
      "weight          -0.0057      0.001     -9.407      0.000      -0.007      -0.004\n",
      "acceleration    -0.0884      0.087     -1.015      0.311      -0.259       0.083\n",
      "model year       0.5729      0.024     23.926      0.000       0.526       0.620\n",
      "origin           1.2085      0.280      4.311      0.000       0.657       1.760\n",
      "==============================================================================\n",
      "Omnibus:                       49.225   Durbin-Watson:                   1.250\n",
      "Prob(Omnibus):                  0.000   Jarque-Bera (JB):               93.067\n",
      "Skew:                           0.710   Prob(JB):                     6.18e-21\n",
      "Kurtosis:                       4.896   Cond. No.                     5.82e+03\n",
      "==============================================================================\n",
      "\n",
      "Warnings:\n",
      "[1] Standard Errors assume that the covariance matrix of the errors is correctly specified.\n",
      "[2] The condition number is large, 5.82e+03. This might indicate that there are\n",
      "strong multicollinearity or other numerical problems.\n",
      "                            OLS Regression Results                            \n",
      "==============================================================================\n",
      "Dep. Variable:                    mpg   R-squared:                       0.982\n",
      "Model:                            OLS   Adj. R-squared:                  0.981\n",
      "Method:                 Least Squares   F-statistic:                     2901.\n",
      "Date:                Sun, 29 Jul 2018   Prob (F-statistic):               0.00\n",
      "Time:                        23:33:20   Log-Likelihood:                -1014.8\n",
      "No. Observations:                 386   AIC:                             2044.\n",
      "Df Residuals:                     379   BIC:                             2071.\n",
      "Df Model:                           7                                         \n",
      "Covariance Type:            nonrobust                                         \n",
      "================================================================================\n",
      "                   coef    std err          t      P>|t|      [0.025      0.975]\n",
      "--------------------------------------------------------------------------------\n",
      "cylinders       -0.6561      0.325     -2.019      0.044      -1.295      -0.017\n",
      "displacement     0.0219      0.008      2.858      0.004       0.007       0.037\n",
      "horsepower      -0.0401      0.013     -3.146      0.002      -0.065      -0.015\n",
      "weight          -0.0062      0.001     -9.275      0.000      -0.007      -0.005\n",
      "acceleration    -0.0781      0.091     -0.858      0.392      -0.257       0.101\n",
      "model year       0.5850      0.024     24.054      0.000       0.537       0.633\n",
      "origin           1.2987      0.282      4.603      0.000       0.744       1.853\n",
      "==============================================================================\n",
      "Omnibus:                       46.144   Durbin-Watson:                   1.282\n",
      "Prob(Omnibus):                  0.000   Jarque-Bera (JB):               88.187\n",
      "Skew:                           0.682   Prob(JB):                     7.09e-20\n",
      "Kurtosis:                       4.903   Cond. No.                     5.96e+03\n",
      "==============================================================================\n",
      "\n",
      "Warnings:\n",
      "[1] Standard Errors assume that the covariance matrix of the errors is correctly specified.\n",
      "[2] The condition number is large, 5.96e+03. This might indicate that there are\n",
      "strong multicollinearity or other numerical problems.\n"
     ]
    }
   ],
   "source": [
    "import statsmodels.api as sm\n",
    "X = cleaned_df[['cylinders', 'displacement', 'horsepower', 'weight', 'acceleration', 'model year', 'origin']]\n",
    "y = cleaned_df['mpg']\n",
    "\n",
    "model = sm.OLS(y, X).fit()\n",
    "predictions = model.predict(X) \n",
    "  \n",
    "print_model = model.summary()\n",
    "print(print_model)\n",
    "\n",
    "X = df2[['cylinders', 'displacement', 'horsepower', 'weight', 'acceleration', 'model year', 'origin']]\n",
    "y = df2['mpg']\n",
    "\n",
    "model = sm.OLS(y, X).fit()\n",
    "predictions = model.predict(X) \n",
    "  \n",
    "print_model = model.summary()\n",
    "print(print_model)"
   ]
  },
  {
   "cell_type": "code",
   "execution_count": null,
   "metadata": {},
   "outputs": [],
   "source": []
  }
 ],
 "metadata": {
  "kernelspec": {
   "display_name": "Python 3",
   "language": "python",
   "name": "python3"
  },
  "language_info": {
   "codemirror_mode": {
    "name": "ipython",
    "version": 3
   },
   "file_extension": ".py",
   "mimetype": "text/x-python",
   "name": "python",
   "nbconvert_exporter": "python",
   "pygments_lexer": "ipython3",
   "version": "3.6.4"
  }
 },
 "nbformat": 4,
 "nbformat_minor": 2
}
