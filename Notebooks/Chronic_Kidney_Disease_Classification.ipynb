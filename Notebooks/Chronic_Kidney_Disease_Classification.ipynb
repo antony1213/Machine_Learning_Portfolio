{
 "cells": [
  {
   "cell_type": "markdown",
   "metadata": {},
   "source": [
    "# Chronic Kidney Disease Classification"
   ]
  },
  {
   "cell_type": "code",
   "execution_count": 1,
   "metadata": {},
   "outputs": [],
   "source": [
    "#Disable sklearn warnings\n",
    "def warn(*args, **kwargs):\n",
    "    pass\n",
    "import warnings\n",
    "warnings.warn = warn"
   ]
  },
  {
   "cell_type": "markdown",
   "metadata": {},
   "source": [
    "# Load Data"
   ]
  },
  {
   "cell_type": "code",
   "execution_count": 2,
   "metadata": {},
   "outputs": [
    {
     "data": {
      "text/html": [
       "<div>\n",
       "<style scoped>\n",
       "    .dataframe tbody tr th:only-of-type {\n",
       "        vertical-align: middle;\n",
       "    }\n",
       "\n",
       "    .dataframe tbody tr th {\n",
       "        vertical-align: top;\n",
       "    }\n",
       "\n",
       "    .dataframe thead th {\n",
       "        text-align: right;\n",
       "    }\n",
       "</style>\n",
       "<table border=\"1\" class=\"dataframe\">\n",
       "  <thead>\n",
       "    <tr style=\"text-align: right;\">\n",
       "      <th></th>\n",
       "      <th>Age</th>\n",
       "      <th>Blood Pressure</th>\n",
       "      <th>Specific Gravity</th>\n",
       "      <th>Albumin</th>\n",
       "      <th>Sugar</th>\n",
       "      <th>Red Blood Cells</th>\n",
       "      <th>Pus Cell</th>\n",
       "      <th>Pus Cell Clumps</th>\n",
       "      <th>Bacteria</th>\n",
       "      <th>Blood Glucose Random</th>\n",
       "      <th>...</th>\n",
       "      <th>Packed Cell Volume</th>\n",
       "      <th>White Blood Cell Count</th>\n",
       "      <th>Red Blood Cell Count</th>\n",
       "      <th>Hypertension</th>\n",
       "      <th>Diabetes Mellitus</th>\n",
       "      <th>Coronary Artery Disease</th>\n",
       "      <th>Appetite</th>\n",
       "      <th>Pedal Edema</th>\n",
       "      <th>Anemia</th>\n",
       "      <th>Class</th>\n",
       "    </tr>\n",
       "  </thead>\n",
       "  <tbody>\n",
       "    <tr>\n",
       "      <th>0</th>\n",
       "      <td>48.0</td>\n",
       "      <td>80.0</td>\n",
       "      <td>1.020</td>\n",
       "      <td>1.0</td>\n",
       "      <td>0.0</td>\n",
       "      <td>NaN</td>\n",
       "      <td>normal</td>\n",
       "      <td>notpresent</td>\n",
       "      <td>notpresent</td>\n",
       "      <td>121.0</td>\n",
       "      <td>...</td>\n",
       "      <td>44.0</td>\n",
       "      <td>7800</td>\n",
       "      <td>5.2</td>\n",
       "      <td>yes</td>\n",
       "      <td>yes</td>\n",
       "      <td>no</td>\n",
       "      <td>good</td>\n",
       "      <td>no</td>\n",
       "      <td>no</td>\n",
       "      <td>ckd</td>\n",
       "    </tr>\n",
       "    <tr>\n",
       "      <th>1</th>\n",
       "      <td>7.0</td>\n",
       "      <td>50.0</td>\n",
       "      <td>1.020</td>\n",
       "      <td>4.0</td>\n",
       "      <td>0.0</td>\n",
       "      <td>NaN</td>\n",
       "      <td>normal</td>\n",
       "      <td>notpresent</td>\n",
       "      <td>notpresent</td>\n",
       "      <td>NaN</td>\n",
       "      <td>...</td>\n",
       "      <td>38.0</td>\n",
       "      <td>6000</td>\n",
       "      <td>NaN</td>\n",
       "      <td>no</td>\n",
       "      <td>no</td>\n",
       "      <td>no</td>\n",
       "      <td>good</td>\n",
       "      <td>no</td>\n",
       "      <td>no</td>\n",
       "      <td>ckd</td>\n",
       "    </tr>\n",
       "    <tr>\n",
       "      <th>2</th>\n",
       "      <td>62.0</td>\n",
       "      <td>80.0</td>\n",
       "      <td>1.010</td>\n",
       "      <td>2.0</td>\n",
       "      <td>3.0</td>\n",
       "      <td>normal</td>\n",
       "      <td>normal</td>\n",
       "      <td>notpresent</td>\n",
       "      <td>notpresent</td>\n",
       "      <td>423.0</td>\n",
       "      <td>...</td>\n",
       "      <td>31.0</td>\n",
       "      <td>7500</td>\n",
       "      <td>NaN</td>\n",
       "      <td>no</td>\n",
       "      <td>yes</td>\n",
       "      <td>no</td>\n",
       "      <td>poor</td>\n",
       "      <td>no</td>\n",
       "      <td>yes</td>\n",
       "      <td>ckd</td>\n",
       "    </tr>\n",
       "    <tr>\n",
       "      <th>3</th>\n",
       "      <td>48.0</td>\n",
       "      <td>70.0</td>\n",
       "      <td>1.005</td>\n",
       "      <td>4.0</td>\n",
       "      <td>0.0</td>\n",
       "      <td>normal</td>\n",
       "      <td>abnormal</td>\n",
       "      <td>present</td>\n",
       "      <td>notpresent</td>\n",
       "      <td>117.0</td>\n",
       "      <td>...</td>\n",
       "      <td>32.0</td>\n",
       "      <td>6700</td>\n",
       "      <td>3.9</td>\n",
       "      <td>yes</td>\n",
       "      <td>no</td>\n",
       "      <td>no</td>\n",
       "      <td>poor</td>\n",
       "      <td>yes</td>\n",
       "      <td>yes</td>\n",
       "      <td>ckd</td>\n",
       "    </tr>\n",
       "    <tr>\n",
       "      <th>4</th>\n",
       "      <td>51.0</td>\n",
       "      <td>80.0</td>\n",
       "      <td>1.010</td>\n",
       "      <td>2.0</td>\n",
       "      <td>0.0</td>\n",
       "      <td>normal</td>\n",
       "      <td>normal</td>\n",
       "      <td>notpresent</td>\n",
       "      <td>notpresent</td>\n",
       "      <td>106.0</td>\n",
       "      <td>...</td>\n",
       "      <td>35.0</td>\n",
       "      <td>7300</td>\n",
       "      <td>4.6</td>\n",
       "      <td>no</td>\n",
       "      <td>no</td>\n",
       "      <td>no</td>\n",
       "      <td>good</td>\n",
       "      <td>no</td>\n",
       "      <td>no</td>\n",
       "      <td>ckd</td>\n",
       "    </tr>\n",
       "  </tbody>\n",
       "</table>\n",
       "<p>5 rows × 25 columns</p>\n",
       "</div>"
      ],
      "text/plain": [
       "    Age  Blood Pressure  Specific Gravity  Albumin  Sugar Red Blood Cells  \\\n",
       "0  48.0            80.0             1.020      1.0    0.0             NaN   \n",
       "1   7.0            50.0             1.020      4.0    0.0             NaN   \n",
       "2  62.0            80.0             1.010      2.0    3.0          normal   \n",
       "3  48.0            70.0             1.005      4.0    0.0          normal   \n",
       "4  51.0            80.0             1.010      2.0    0.0          normal   \n",
       "\n",
       "   Pus Cell Pus Cell Clumps    Bacteria  Blood Glucose Random  ...   \\\n",
       "0    normal      notpresent  notpresent                 121.0  ...    \n",
       "1    normal      notpresent  notpresent                   NaN  ...    \n",
       "2    normal      notpresent  notpresent                 423.0  ...    \n",
       "3  abnormal         present  notpresent                 117.0  ...    \n",
       "4    normal      notpresent  notpresent                 106.0  ...    \n",
       "\n",
       "   Packed Cell Volume  White Blood Cell Count  Red Blood Cell Count  \\\n",
       "0                44.0                    7800                   5.2   \n",
       "1                38.0                    6000                   NaN   \n",
       "2                31.0                    7500                   NaN   \n",
       "3                32.0                    6700                   3.9   \n",
       "4                35.0                    7300                   4.6   \n",
       "\n",
       "   Hypertension  Diabetes Mellitus  Coronary Artery Disease Appetite  \\\n",
       "0           yes                yes                       no     good   \n",
       "1            no                 no                       no     good   \n",
       "2            no                yes                       no     poor   \n",
       "3           yes                 no                       no     poor   \n",
       "4            no                 no                       no     good   \n",
       "\n",
       "  Pedal Edema Anemia Class  \n",
       "0          no     no   ckd  \n",
       "1          no     no   ckd  \n",
       "2          no    yes   ckd  \n",
       "3         yes    yes   ckd  \n",
       "4          no     no   ckd  \n",
       "\n",
       "[5 rows x 25 columns]"
      ]
     },
     "execution_count": 2,
     "metadata": {},
     "output_type": "execute_result"
    }
   ],
   "source": [
    "import pandas as pd\n",
    "import numpy as np\n",
    "\n",
    "ckd = pd.read_csv('C:/Users/terry/Documents/GitHub/Machine_Learning_Portfolio/Datasets/chronic_kidney_disease.csv')\n",
    "ckd.head()"
   ]
  },
  {
   "cell_type": "markdown",
   "metadata": {},
   "source": [
    "# Data Exploration"
   ]
  },
  {
   "cell_type": "code",
   "execution_count": 3,
   "metadata": {},
   "outputs": [
    {
     "name": "stdout",
     "output_type": "stream",
     "text": [
      "<class 'pandas.core.frame.DataFrame'>\n",
      "RangeIndex: 400 entries, 0 to 399\n",
      "Data columns (total 25 columns):\n",
      "Age                        391 non-null float64\n",
      "Blood Pressure             388 non-null float64\n",
      "Specific Gravity           353 non-null float64\n",
      "Albumin                    354 non-null float64\n",
      "Sugar                      351 non-null float64\n",
      "Red Blood Cells            248 non-null object\n",
      "Pus Cell                   335 non-null object\n",
      "Pus Cell Clumps            396 non-null object\n",
      "Bacteria                   396 non-null object\n",
      "Blood Glucose Random       356 non-null float64\n",
      "Blood Urea                 381 non-null float64\n",
      "Serum Creatinine           383 non-null float64\n",
      "Sodium                     313 non-null float64\n",
      "Potassium                  312 non-null float64\n",
      "Hemoglobin                 348 non-null float64\n",
      "Packed Cell Volume         329 non-null float64\n",
      "White Blood Cell Count     295 non-null object\n",
      "Red Blood Cell Count       270 non-null object\n",
      "Hypertension               398 non-null object\n",
      "Diabetes Mellitus          397 non-null object\n",
      "Coronary Artery Disease    398 non-null object\n",
      "Appetite                   399 non-null object\n",
      "Pedal Edema                399 non-null object\n",
      "Anemia                     399 non-null object\n",
      "Class                      400 non-null object\n",
      "dtypes: float64(12), object(13)\n",
      "memory usage: 78.2+ KB\n"
     ]
    }
   ],
   "source": [
    "ckd.info()"
   ]
  },
  {
   "cell_type": "code",
   "execution_count": 4,
   "metadata": {},
   "outputs": [
    {
     "name": "stdout",
     "output_type": "stream",
     "text": [
      "<class 'pandas.core.frame.DataFrame'>\n",
      "Int64Index: 323 entries, 0 to 399\n",
      "Data columns (total 22 columns):\n",
      "Age                        318 non-null float64\n",
      "Blood Pressure             317 non-null float64\n",
      "Specific Gravity           323 non-null float64\n",
      "Albumin                    323 non-null float64\n",
      "Sugar                      323 non-null float64\n",
      "Pus Cell                   323 non-null object\n",
      "Pus Cell Clumps            323 non-null object\n",
      "Bacteria                   323 non-null object\n",
      "Blood Glucose Random       288 non-null float64\n",
      "Blood Urea                 308 non-null float64\n",
      "Serum Creatinine           308 non-null float64\n",
      "Sodium                     252 non-null float64\n",
      "Potassium                  252 non-null float64\n",
      "Hemoglobin                 289 non-null float64\n",
      "Packed Cell Volume         278 non-null float64\n",
      "Hypertension               323 non-null object\n",
      "Diabetes Mellitus          323 non-null object\n",
      "Coronary Artery Disease    323 non-null object\n",
      "Appetite                   323 non-null object\n",
      "Pedal Edema                323 non-null object\n",
      "Anemia                     323 non-null object\n",
      "Class                      323 non-null object\n",
      "dtypes: float64(12), object(10)\n",
      "memory usage: 58.0+ KB\n"
     ]
    }
   ],
   "source": [
    "#Drop columns with too many missing values\n",
    "ckd.drop(columns=['Red Blood Cells', 'Red Blood Cell Count', 'White Blood Cell Count'], inplace=True)\n",
    "\n",
    "cat_attribs = ['Specific Gravity','Albumin','Sugar','Pus Cell','Pus Cell Clumps','Bacteria','Hypertension',\n",
    "               'Diabetes Mellitus','Coronary Artery Disease','Appetite','Pedal Edema','Anemia']\n",
    "\n",
    "num_attribs = ['Age','Blood Pressure','Blood Glucose Random','Blood Urea','Serum Creatinine',\n",
    "               'Sodium','Potassium','Hemoglobin','Packed Cell Volume']\n",
    "\n",
    "#Drop records with missing categorical features\n",
    "ckd.dropna(subset=cat_attribs, inplace=True)\n",
    "ckd.info()"
   ]
  },
  {
   "cell_type": "code",
   "execution_count": 5,
   "metadata": {},
   "outputs": [
    {
     "data": {
      "text/html": [
       "<div>\n",
       "<style scoped>\n",
       "    .dataframe tbody tr th:only-of-type {\n",
       "        vertical-align: middle;\n",
       "    }\n",
       "\n",
       "    .dataframe tbody tr th {\n",
       "        vertical-align: top;\n",
       "    }\n",
       "\n",
       "    .dataframe thead th {\n",
       "        text-align: right;\n",
       "    }\n",
       "</style>\n",
       "<table border=\"1\" class=\"dataframe\">\n",
       "  <thead>\n",
       "    <tr style=\"text-align: right;\">\n",
       "      <th></th>\n",
       "      <th>Age</th>\n",
       "      <th>Blood Pressure</th>\n",
       "      <th>Blood Glucose Random</th>\n",
       "      <th>Blood Urea</th>\n",
       "      <th>Serum Creatinine</th>\n",
       "      <th>Sodium</th>\n",
       "      <th>Potassium</th>\n",
       "      <th>Hemoglobin</th>\n",
       "      <th>Packed Cell Volume</th>\n",
       "    </tr>\n",
       "  </thead>\n",
       "  <tbody>\n",
       "    <tr>\n",
       "      <th>count</th>\n",
       "      <td>318.000000</td>\n",
       "      <td>317.000000</td>\n",
       "      <td>288.000000</td>\n",
       "      <td>308.000000</td>\n",
       "      <td>308.000000</td>\n",
       "      <td>252.000000</td>\n",
       "      <td>252.000000</td>\n",
       "      <td>289.000000</td>\n",
       "      <td>278.000000</td>\n",
       "    </tr>\n",
       "    <tr>\n",
       "      <th>mean</th>\n",
       "      <td>50.125786</td>\n",
       "      <td>76.056782</td>\n",
       "      <td>147.385417</td>\n",
       "      <td>54.438636</td>\n",
       "      <td>2.598701</td>\n",
       "      <td>137.992063</td>\n",
       "      <td>4.675794</td>\n",
       "      <td>12.714879</td>\n",
       "      <td>39.212230</td>\n",
       "    </tr>\n",
       "    <tr>\n",
       "      <th>std</th>\n",
       "      <td>17.286687</td>\n",
       "      <td>12.320994</td>\n",
       "      <td>79.337110</td>\n",
       "      <td>49.956435</td>\n",
       "      <td>3.737093</td>\n",
       "      <td>7.461450</td>\n",
       "      <td>3.533642</td>\n",
       "      <td>2.838369</td>\n",
       "      <td>8.844113</td>\n",
       "    </tr>\n",
       "    <tr>\n",
       "      <th>min</th>\n",
       "      <td>2.000000</td>\n",
       "      <td>50.000000</td>\n",
       "      <td>22.000000</td>\n",
       "      <td>1.500000</td>\n",
       "      <td>0.400000</td>\n",
       "      <td>104.000000</td>\n",
       "      <td>2.500000</td>\n",
       "      <td>3.100000</td>\n",
       "      <td>9.000000</td>\n",
       "    </tr>\n",
       "    <tr>\n",
       "      <th>25%</th>\n",
       "      <td>40.000000</td>\n",
       "      <td>70.000000</td>\n",
       "      <td>100.000000</td>\n",
       "      <td>25.750000</td>\n",
       "      <td>0.900000</td>\n",
       "      <td>135.000000</td>\n",
       "      <td>3.800000</td>\n",
       "      <td>10.800000</td>\n",
       "      <td>33.000000</td>\n",
       "    </tr>\n",
       "    <tr>\n",
       "      <th>50%</th>\n",
       "      <td>53.000000</td>\n",
       "      <td>80.000000</td>\n",
       "      <td>121.000000</td>\n",
       "      <td>40.000000</td>\n",
       "      <td>1.200000</td>\n",
       "      <td>138.000000</td>\n",
       "      <td>4.400000</td>\n",
       "      <td>13.000000</td>\n",
       "      <td>41.000000</td>\n",
       "    </tr>\n",
       "    <tr>\n",
       "      <th>75%</th>\n",
       "      <td>63.000000</td>\n",
       "      <td>80.000000</td>\n",
       "      <td>158.250000</td>\n",
       "      <td>56.000000</td>\n",
       "      <td>2.500000</td>\n",
       "      <td>142.000000</td>\n",
       "      <td>4.900000</td>\n",
       "      <td>15.000000</td>\n",
       "      <td>46.000000</td>\n",
       "    </tr>\n",
       "    <tr>\n",
       "      <th>max</th>\n",
       "      <td>90.000000</td>\n",
       "      <td>120.000000</td>\n",
       "      <td>490.000000</td>\n",
       "      <td>391.000000</td>\n",
       "      <td>32.000000</td>\n",
       "      <td>163.000000</td>\n",
       "      <td>47.000000</td>\n",
       "      <td>17.800000</td>\n",
       "      <td>54.000000</td>\n",
       "    </tr>\n",
       "  </tbody>\n",
       "</table>\n",
       "</div>"
      ],
      "text/plain": [
       "              Age  Blood Pressure  Blood Glucose Random  Blood Urea  \\\n",
       "count  318.000000      317.000000            288.000000  308.000000   \n",
       "mean    50.125786       76.056782            147.385417   54.438636   \n",
       "std     17.286687       12.320994             79.337110   49.956435   \n",
       "min      2.000000       50.000000             22.000000    1.500000   \n",
       "25%     40.000000       70.000000            100.000000   25.750000   \n",
       "50%     53.000000       80.000000            121.000000   40.000000   \n",
       "75%     63.000000       80.000000            158.250000   56.000000   \n",
       "max     90.000000      120.000000            490.000000  391.000000   \n",
       "\n",
       "       Serum Creatinine      Sodium   Potassium  Hemoglobin  \\\n",
       "count        308.000000  252.000000  252.000000  289.000000   \n",
       "mean           2.598701  137.992063    4.675794   12.714879   \n",
       "std            3.737093    7.461450    3.533642    2.838369   \n",
       "min            0.400000  104.000000    2.500000    3.100000   \n",
       "25%            0.900000  135.000000    3.800000   10.800000   \n",
       "50%            1.200000  138.000000    4.400000   13.000000   \n",
       "75%            2.500000  142.000000    4.900000   15.000000   \n",
       "max           32.000000  163.000000   47.000000   17.800000   \n",
       "\n",
       "       Packed Cell Volume  \n",
       "count          278.000000  \n",
       "mean            39.212230  \n",
       "std              8.844113  \n",
       "min              9.000000  \n",
       "25%             33.000000  \n",
       "50%             41.000000  \n",
       "75%             46.000000  \n",
       "max             54.000000  "
      ]
     },
     "execution_count": 5,
     "metadata": {},
     "output_type": "execute_result"
    }
   ],
   "source": [
    "ckd[num_attribs].describe()"
   ]
  },
  {
   "cell_type": "code",
   "execution_count": 59,
   "metadata": {},
   "outputs": [
    {
     "data": {
      "image/png": "[encoded data removed]",
      "text/plain": [
       "<Figure size 1440x1080 with 9 Axes>"
      ]
     },
     "metadata": {},
     "output_type": "display_data"
    }
   ],
   "source": [
    "import matplotlib.pyplot as plt\n",
    "ckd[num_attribs].hist(bins=50, figsize=(20,15))\n",
    "plt.show()"
   ]
  },
  {
   "cell_type": "markdown",
   "metadata": {},
   "source": [
    "# Generate Train/Test Split"
   ]
  },
  {
   "cell_type": "code",
   "execution_count": 7,
   "metadata": {},
   "outputs": [],
   "source": [
    "import numpy as np\n",
    "from sklearn.model_selection import train_test_split\n",
    "\n",
    "ckd_X = ckd.drop('Class', axis=1)\n",
    "ckd_y = ckd['Class'].copy()\n",
    "\n",
    "X_train, X_test, y_train, y_test = train_test_split(ckd_X, ckd_y, test_size=0.2, random_state=42, shuffle=True)"
   ]
  },
  {
   "cell_type": "code",
   "execution_count": 8,
   "metadata": {},
   "outputs": [],
   "source": [
    "#Set aside the test set and work with the training set\n",
    "ckd = X_train.copy()"
   ]
  },
  {
   "cell_type": "markdown",
   "metadata": {},
   "source": [
    "# Feature Correlation"
   ]
  },
  {
   "cell_type": "code",
   "execution_count": 9,
   "metadata": {},
   "outputs": [
    {
     "data": {
      "text/plain": [
       "<matplotlib.axes._subplots.AxesSubplot at 0x1d0f8879588>"
      ]
     },
     "execution_count": 9,
     "metadata": {},
     "output_type": "execute_result"
    },
    {
     "data": {
      "image/png": "[encoded data removed]",
      "text/plain": [
       "<Figure size 720x576 with 2 Axes>"
      ]
     },
     "metadata": {},
     "output_type": "display_data"
    }
   ],
   "source": [
    "#Correlation Heat Map\n",
    "import seaborn as sns\n",
    "\n",
    "corr_matrix = ckd.corr()\n",
    "plt.figure(figsize = (10,8))\n",
    "sns.heatmap(corr_matrix, annot=True, cmap='RdBu_r')"
   ]
  },
  {
   "cell_type": "markdown",
   "metadata": {},
   "source": [
    "# Data Pre-processing Pipeline"
   ]
  },
  {
   "cell_type": "code",
   "execution_count": 10,
   "metadata": {},
   "outputs": [
    {
     "data": {
      "text/html": [
       "<div>\n",
       "<style scoped>\n",
       "    .dataframe tbody tr th:only-of-type {\n",
       "        vertical-align: middle;\n",
       "    }\n",
       "\n",
       "    .dataframe tbody tr th {\n",
       "        vertical-align: top;\n",
       "    }\n",
       "\n",
       "    .dataframe thead th {\n",
       "        text-align: right;\n",
       "    }\n",
       "</style>\n",
       "<table border=\"1\" class=\"dataframe\">\n",
       "  <thead>\n",
       "    <tr style=\"text-align: right;\">\n",
       "      <th></th>\n",
       "      <th>0</th>\n",
       "      <th>1</th>\n",
       "      <th>2</th>\n",
       "      <th>3</th>\n",
       "      <th>4</th>\n",
       "      <th>5</th>\n",
       "      <th>6</th>\n",
       "      <th>7</th>\n",
       "      <th>8</th>\n",
       "      <th>9</th>\n",
       "      <th>...</th>\n",
       "      <th>34</th>\n",
       "      <th>35</th>\n",
       "      <th>36</th>\n",
       "      <th>37</th>\n",
       "      <th>38</th>\n",
       "      <th>39</th>\n",
       "      <th>40</th>\n",
       "      <th>41</th>\n",
       "      <th>42</th>\n",
       "      <th>43</th>\n",
       "    </tr>\n",
       "  </thead>\n",
       "  <tbody>\n",
       "    <tr>\n",
       "      <th>0</th>\n",
       "      <td>-0.898017</td>\n",
       "      <td>1.158917</td>\n",
       "      <td>-0.541976</td>\n",
       "      <td>-0.094402</td>\n",
       "      <td>-0.266506</td>\n",
       "      <td>-0.134787</td>\n",
       "      <td>-0.164747</td>\n",
       "      <td>-0.271240</td>\n",
       "      <td>-0.027810</td>\n",
       "      <td>0.0</td>\n",
       "      <td>...</td>\n",
       "      <td>1.0</td>\n",
       "      <td>0.0</td>\n",
       "      <td>1.0</td>\n",
       "      <td>0.0</td>\n",
       "      <td>1.0</td>\n",
       "      <td>0.0</td>\n",
       "      <td>1.0</td>\n",
       "      <td>0.0</td>\n",
       "      <td>1.0</td>\n",
       "      <td>0.0</td>\n",
       "    </tr>\n",
       "    <tr>\n",
       "      <th>1</th>\n",
       "      <td>0.640116</td>\n",
       "      <td>0.335224</td>\n",
       "      <td>0.400237</td>\n",
       "      <td>2.025169</td>\n",
       "      <td>0.501186</td>\n",
       "      <td>-0.464407</td>\n",
       "      <td>0.237968</td>\n",
       "      <td>-1.806847</td>\n",
       "      <td>-1.792133</td>\n",
       "      <td>0.0</td>\n",
       "      <td>...</td>\n",
       "      <td>0.0</td>\n",
       "      <td>1.0</td>\n",
       "      <td>0.0</td>\n",
       "      <td>1.0</td>\n",
       "      <td>0.0</td>\n",
       "      <td>1.0</td>\n",
       "      <td>0.0</td>\n",
       "      <td>1.0</td>\n",
       "      <td>0.0</td>\n",
       "      <td>1.0</td>\n",
       "    </tr>\n",
       "    <tr>\n",
       "      <th>2</th>\n",
       "      <td>1.038891</td>\n",
       "      <td>-0.488469</td>\n",
       "      <td>-0.303009</td>\n",
       "      <td>-0.570223</td>\n",
       "      <td>-0.333262</td>\n",
       "      <td>0.030024</td>\n",
       "      <td>-0.054916</td>\n",
       "      <td>0.094381</td>\n",
       "      <td>-0.145431</td>\n",
       "      <td>1.0</td>\n",
       "      <td>...</td>\n",
       "      <td>1.0</td>\n",
       "      <td>0.0</td>\n",
       "      <td>0.0</td>\n",
       "      <td>1.0</td>\n",
       "      <td>1.0</td>\n",
       "      <td>0.0</td>\n",
       "      <td>1.0</td>\n",
       "      <td>0.0</td>\n",
       "      <td>1.0</td>\n",
       "      <td>0.0</td>\n",
       "    </tr>\n",
       "    <tr>\n",
       "      <th>3</th>\n",
       "      <td>0.070437</td>\n",
       "      <td>1.982609</td>\n",
       "      <td>-0.692184</td>\n",
       "      <td>-0.743249</td>\n",
       "      <td>-0.266506</td>\n",
       "      <td>1.348504</td>\n",
       "      <td>-0.018305</td>\n",
       "      <td>0.076100</td>\n",
       "      <td>0.207433</td>\n",
       "      <td>0.0</td>\n",
       "      <td>...</td>\n",
       "      <td>1.0</td>\n",
       "      <td>0.0</td>\n",
       "      <td>1.0</td>\n",
       "      <td>0.0</td>\n",
       "      <td>0.0</td>\n",
       "      <td>1.0</td>\n",
       "      <td>1.0</td>\n",
       "      <td>0.0</td>\n",
       "      <td>1.0</td>\n",
       "      <td>0.0</td>\n",
       "    </tr>\n",
       "    <tr>\n",
       "      <th>4</th>\n",
       "      <td>0.412244</td>\n",
       "      <td>1.158917</td>\n",
       "      <td>-0.303009</td>\n",
       "      <td>5.788487</td>\n",
       "      <td>3.538578</td>\n",
       "      <td>-1.947697</td>\n",
       "      <td>0.091526</td>\n",
       "      <td>-1.697161</td>\n",
       "      <td>-1.792133</td>\n",
       "      <td>0.0</td>\n",
       "      <td>...</td>\n",
       "      <td>0.0</td>\n",
       "      <td>1.0</td>\n",
       "      <td>0.0</td>\n",
       "      <td>1.0</td>\n",
       "      <td>0.0</td>\n",
       "      <td>1.0</td>\n",
       "      <td>0.0</td>\n",
       "      <td>1.0</td>\n",
       "      <td>0.0</td>\n",
       "      <td>1.0</td>\n",
       "    </tr>\n",
       "  </tbody>\n",
       "</table>\n",
       "<p>5 rows × 44 columns</p>\n",
       "</div>"
      ],
      "text/plain": [
       "         0         1         2         3         4         5         6   \\\n",
       "0 -0.898017  1.158917 -0.541976 -0.094402 -0.266506 -0.134787 -0.164747   \n",
       "1  0.640116  0.335224  0.400237  2.025169  0.501186 -0.464407  0.237968   \n",
       "2  1.038891 -0.488469 -0.303009 -0.570223 -0.333262  0.030024 -0.054916   \n",
       "3  0.070437  1.982609 -0.692184 -0.743249 -0.266506  1.348504 -0.018305   \n",
       "4  0.412244  1.158917 -0.303009  5.788487  3.538578 -1.947697  0.091526   \n",
       "\n",
       "         7         8    9  ...    34   35   36   37   38   39   40   41   42  \\\n",
       "0 -0.271240 -0.027810  0.0 ...   1.0  0.0  1.0  0.0  1.0  0.0  1.0  0.0  1.0   \n",
       "1 -1.806847 -1.792133  0.0 ...   0.0  1.0  0.0  1.0  0.0  1.0  0.0  1.0  0.0   \n",
       "2  0.094381 -0.145431  1.0 ...   1.0  0.0  0.0  1.0  1.0  0.0  1.0  0.0  1.0   \n",
       "3  0.076100  0.207433  0.0 ...   1.0  0.0  1.0  0.0  0.0  1.0  1.0  0.0  1.0   \n",
       "4 -1.697161 -1.792133  0.0 ...   0.0  1.0  0.0  1.0  0.0  1.0  0.0  1.0  0.0   \n",
       "\n",
       "    43  \n",
       "0  0.0  \n",
       "1  1.0  \n",
       "2  0.0  \n",
       "3  0.0  \n",
       "4  1.0  \n",
       "\n",
       "[5 rows x 44 columns]"
      ]
     },
     "execution_count": 10,
     "metadata": {},
     "output_type": "execute_result"
    }
   ],
   "source": [
    "#Process the data with a numerical and categorical pipeline\n",
    "#The numerical pipeline fills missing values and scales the features\n",
    "#The categorical pipeline encodes categorical features and does feature engineering\n",
    "\n",
    "from sklearn.preprocessing import OrdinalEncoder, StandardScaler, OneHotEncoder\n",
    "from sklearn.pipeline import Pipeline\n",
    "from sklearn.impute import SimpleImputer\n",
    "from sklearn.compose import ColumnTransformer\n",
    "\n",
    "num_pipeline = Pipeline([\n",
    "        ('imputer', SimpleImputer(strategy=\"median\")),\n",
    "        ('std_scaler', StandardScaler()),\n",
    "    ])\n",
    "\n",
    "full_pipeline = ColumnTransformer([\n",
    "        (\"num\", num_pipeline, num_attribs),\n",
    "        (\"cat\", OneHotEncoder(), cat_attribs),\n",
    "    ])\n",
    "\n",
    "ckd_prepared = full_pipeline.fit_transform(X_train)\n",
    "pd.DataFrame(ckd_prepared).head()"
   ]
  },
  {
   "cell_type": "markdown",
   "metadata": {},
   "source": [
    "# Linear SVM With Stochastic Gradient Descent"
   ]
  },
  {
   "cell_type": "code",
   "execution_count": 11,
   "metadata": {},
   "outputs": [
    {
     "name": "stdout",
     "output_type": "stream",
     "text": [
      "Scores  [0.96551724 0.96511628 0.94117647]\n",
      "\n",
      "Average Score:  0.9572699970124378\n"
     ]
    }
   ],
   "source": [
    "from sklearn.linear_model import SGDClassifier\n",
    "from sklearn.model_selection import cross_val_score\n",
    "\n",
    "sgd_clf = SGDClassifier(random_state=42, loss='hinge')\n",
    "scores = cross_val_score(sgd_clf, ckd_prepared, y_train, cv=3, scoring='accuracy')\n",
    "\n",
    "print('Scores ', scores)\n",
    "print('\\nAverage Score: ', sum(scores) / len(scores))"
   ]
  },
  {
   "cell_type": "code",
   "execution_count": 12,
   "metadata": {},
   "outputs": [
    {
     "data": {
      "text/plain": [
       "array([[147,   5],\n",
       "       [  6, 100]], dtype=int64)"
      ]
     },
     "execution_count": 12,
     "metadata": {},
     "output_type": "execute_result"
    }
   ],
   "source": [
    "#Confusion Matrix\n",
    "from sklearn.model_selection import cross_val_predict\n",
    "from sklearn.metrics import confusion_matrix\n",
    "\n",
    "y_train_pred = cross_val_predict(sgd_clf, ckd_prepared, y_train, cv=3)\n",
    "confusion_matrix(y_train, y_train_pred)"
   ]
  },
  {
   "cell_type": "code",
   "execution_count": 13,
   "metadata": {},
   "outputs": [
    {
     "data": {
      "text/plain": [
       "0.9607843137254902"
      ]
     },
     "metadata": {},
     "output_type": "display_data"
    },
    {
     "data": {
      "text/plain": [
       "0.9671052631578947"
      ]
     },
     "metadata": {},
     "output_type": "display_data"
    },
    {
     "data": {
      "text/plain": [
       "0.9639344262295081"
      ]
     },
     "metadata": {},
     "output_type": "display_data"
    }
   ],
   "source": [
    "#Precsion, Recall, and F1 score\n",
    "from sklearn.metrics import precision_score, recall_score, f1_score\n",
    "\n",
    "display(precision_score(y_train, y_train_pred, pos_label='ckd'))\n",
    "display(recall_score(y_train, y_train_pred, pos_label='ckd'))\n",
    "display(f1_score(y_train, y_train_pred, pos_label='ckd'))"
   ]
  },
  {
   "cell_type": "code",
   "execution_count": 14,
   "metadata": {},
   "outputs": [
    {
     "data": {
      "image/png": "[encoded data removed]",
      "text/plain": [
       "<Figure size 576x288 with 1 Axes>"
      ]
     },
     "metadata": {},
     "output_type": "display_data"
    }
   ],
   "source": [
    "#Precision Recall Curve\n",
    "y_scores = cross_val_predict(sgd_clf, ckd_prepared, y_train, cv=3, method=\"decision_function\")\n",
    "from sklearn.metrics import precision_recall_curve\n",
    "\n",
    "precisions, recalls, thresholds = precision_recall_curve(y_train, y_scores, pos_label='ckd')\n",
    "\n",
    "def plot_precision_recall_vs_threshold(precisions, recalls, thresholds):\n",
    "    plt.plot(thresholds, precisions[:-1], \"b--\", label=\"Precision\", linewidth=2)\n",
    "    plt.plot(thresholds, recalls[:-1], \"g-\", label=\"Recall\", linewidth=2)\n",
    "    plt.xlabel(\"Threshold\", fontsize=16)\n",
    "    plt.legend(loc=\"upper left\", fontsize=16)\n",
    "    plt.ylim([0, 1])\n",
    "\n",
    "plt.figure(figsize=(8, 4))\n",
    "plot_precision_recall_vs_threshold(precisions, recalls, thresholds)\n",
    "plt.xlim([-500, 500])\n",
    "plt.show()"
   ]
  },
  {
   "cell_type": "code",
   "execution_count": 15,
   "metadata": {},
   "outputs": [
    {
     "data": {
      "image/png": "[encoded data removed]",
      "text/plain": [
       "<Figure size 576x432 with 1 Axes>"
      ]
     },
     "metadata": {},
     "output_type": "display_data"
    }
   ],
   "source": [
    "from sklearn.metrics import roc_curve\n",
    "\n",
    "fpr, tpr, thresholds = roc_curve(y_train, y_scores, pos_label='ckd')\n",
    "\n",
    "def plot_roc_curve(fpr, tpr, label=None):\n",
    "    plt.plot(fpr, tpr, linewidth=2, label=label)\n",
    "    plt.plot([0, 1], [0, 1], 'k--')\n",
    "    plt.axis([0, 1, 0, 1])\n",
    "    plt.xlabel('False Positive Rate', fontsize=16)\n",
    "    plt.ylabel('True Positive Rate', fontsize=16)\n",
    "\n",
    "plt.figure(figsize=(8, 6))\n",
    "plot_roc_curve(fpr, tpr)\n",
    "plt.show()"
   ]
  },
  {
   "cell_type": "code",
   "execution_count": 16,
   "metadata": {},
   "outputs": [
    {
     "data": {
      "text/plain": [
       "0.9931107249255213"
      ]
     },
     "execution_count": 16,
     "metadata": {},
     "output_type": "execute_result"
    }
   ],
   "source": [
    "from sklearn.metrics import roc_auc_score\n",
    "\n",
    "roc_auc_score(y_train, y_scores)"
   ]
  },
  {
   "cell_type": "markdown",
   "metadata": {},
   "source": [
    "# Logistic Regression With Stochastic Gradient Descent"
   ]
  },
  {
   "cell_type": "code",
   "execution_count": 17,
   "metadata": {},
   "outputs": [
    {
     "name": "stdout",
     "output_type": "stream",
     "text": [
      "Accuracy:  [0.97701149 0.98837209 0.97647059]\n",
      "\n",
      "Average Accuracy:  0.9806180585038078\n"
     ]
    }
   ],
   "source": [
    "sgd_clf = SGDClassifier(random_state=42, loss='log')\n",
    "scores = cross_val_score(sgd_clf, ckd_prepared, y_train, cv=3, scoring='accuracy')\n",
    "\n",
    "print('Accuracy: ', scores)\n",
    "print('\\nAverage Accuracy: ', sum(scores) / len(scores))"
   ]
  },
  {
   "cell_type": "code",
   "execution_count": 18,
   "metadata": {},
   "outputs": [
    {
     "data": {
      "text/plain": [
       "array([[148,   4],\n",
       "       [  1, 105]], dtype=int64)"
      ]
     },
     "execution_count": 18,
     "metadata": {},
     "output_type": "execute_result"
    }
   ],
   "source": [
    "#Confusion Matrix\n",
    "y_train_pred = cross_val_predict(sgd_clf, ckd_prepared, y_train, cv=3)\n",
    "confusion_matrix(y_train, y_train_pred)"
   ]
  },
  {
   "cell_type": "code",
   "execution_count": 19,
   "metadata": {},
   "outputs": [
    {
     "name": "stdout",
     "output_type": "stream",
     "text": [
      "Precision:  0.9932885906040269\n",
      "Recall:  0.9736842105263158\n",
      "F1 Score:  0.9833887043189369\n"
     ]
    }
   ],
   "source": [
    "#Precision, Recall, F1 Score\n",
    "print('Precision: ', precision_score(y_train, y_train_pred, pos_label='ckd'))\n",
    "print('Recall: ', recall_score(y_train, y_train_pred, pos_label='ckd'))\n",
    "print('F1 Score: ', f1_score(y_train, y_train_pred, pos_label='ckd'))"
   ]
  },
  {
   "cell_type": "code",
   "execution_count": 20,
   "metadata": {},
   "outputs": [
    {
     "name": "stdout",
     "output_type": "stream",
     "text": [
      "ROC AUC Score:  0.9985104270109235\n"
     ]
    }
   ],
   "source": [
    "#ROC AUC Score\n",
    "y_scores = cross_val_predict(sgd_clf, ckd_prepared, y_train, cv=3, method=\"decision_function\")\n",
    "print('ROC AUC Score: ', roc_auc_score(y_train, y_scores))"
   ]
  },
  {
   "cell_type": "markdown",
   "metadata": {},
   "source": [
    "# Support Vector Machine"
   ]
  },
  {
   "cell_type": "code",
   "execution_count": 21,
   "metadata": {},
   "outputs": [
    {
     "name": "stdout",
     "output_type": "stream",
     "text": [
      "Accuracy:  [0.96551724 0.97674419 0.95294118]\n",
      "\n",
      "Average Accuracy:  0.9650675346321368\n"
     ]
    }
   ],
   "source": [
    "from sklearn.svm import LinearSVC\n",
    "\n",
    "svm_clf = LinearSVC(C=1, loss='hinge')\n",
    "scores = cross_val_score(svm_clf, ckd_prepared, y_train, cv=3, scoring='accuracy')\n",
    "\n",
    "print('Accuracy: ', scores)\n",
    "print('\\nAverage Accuracy: ', sum(scores) / len(scores))"
   ]
  },
  {
   "cell_type": "code",
   "execution_count": 22,
   "metadata": {},
   "outputs": [
    {
     "data": {
      "text/plain": [
       "array([[144,   8],\n",
       "       [  1, 105]], dtype=int64)"
      ]
     },
     "execution_count": 22,
     "metadata": {},
     "output_type": "execute_result"
    }
   ],
   "source": [
    "#Confusion Matrix\n",
    "y_train_pred = cross_val_predict(svm_clf, ckd_prepared, y_train, cv=3)\n",
    "confusion_matrix(y_train, y_train_pred)"
   ]
  },
  {
   "cell_type": "code",
   "execution_count": 23,
   "metadata": {},
   "outputs": [
    {
     "name": "stdout",
     "output_type": "stream",
     "text": [
      "Precision:  0.993103448275862\n",
      "Recall:  0.9473684210526315\n",
      "F1 Score:  0.9696969696969696\n"
     ]
    }
   ],
   "source": [
    "#Precision, Recall, F1 Score\n",
    "print('Precision: ', precision_score(y_train, y_train_pred, pos_label='ckd'))\n",
    "print('Recall: ', recall_score(y_train, y_train_pred, pos_label='ckd'))\n",
    "print('F1 Score: ', f1_score(y_train, y_train_pred, pos_label='ckd'))"
   ]
  },
  {
   "cell_type": "code",
   "execution_count": 24,
   "metadata": {},
   "outputs": [
    {
     "name": "stdout",
     "output_type": "stream",
     "text": [
      "ROC AUC Score:  0.9983862959285006\n"
     ]
    }
   ],
   "source": [
    "#ROC AUC Score\n",
    "y_scores = cross_val_predict(svm_clf, ckd_prepared, y_train, cv=3, method=\"decision_function\")\n",
    "print('ROC AUC Score: ', roc_auc_score(y_train, y_scores))"
   ]
  },
  {
   "cell_type": "markdown",
   "metadata": {},
   "source": [
    "# Kernelized Support Vector Machine"
   ]
  },
  {
   "cell_type": "code",
   "execution_count": 25,
   "metadata": {},
   "outputs": [
    {
     "name": "stdout",
     "output_type": "stream",
     "text": [
      "Accuracy:  [0.96551724 0.98837209 0.96470588]\n",
      "\n",
      "Average Accuracy:  0.9728650722518358\n"
     ]
    }
   ],
   "source": [
    "from sklearn.svm import SVC\n",
    "\n",
    "poly_kernal_svm_clf = SVC(kernel='poly', degree=3, coef0=1, C=5)\n",
    "scores = cross_val_score(poly_kernal_svm_clf, ckd_prepared, y_train, cv=3, scoring='accuracy')\n",
    "\n",
    "print('Accuracy: ', scores)\n",
    "print('\\nAverage Accuracy: ', sum(scores) / len(scores))"
   ]
  },
  {
   "cell_type": "code",
   "execution_count": 26,
   "metadata": {},
   "outputs": [
    {
     "data": {
      "text/plain": [
       "array([[145,   7],\n",
       "       [  0, 106]], dtype=int64)"
      ]
     },
     "execution_count": 26,
     "metadata": {},
     "output_type": "execute_result"
    }
   ],
   "source": [
    "#Confusion Matrix\n",
    "y_train_pred = cross_val_predict(poly_kernal_svm_clf, ckd_prepared, y_train, cv=3)\n",
    "confusion_matrix(y_train, y_train_pred)"
   ]
  },
  {
   "cell_type": "code",
   "execution_count": 27,
   "metadata": {},
   "outputs": [
    {
     "name": "stdout",
     "output_type": "stream",
     "text": [
      "Precision:  1.0\n",
      "Recall:  0.9539473684210527\n",
      "F1 Score:  0.9764309764309764\n"
     ]
    }
   ],
   "source": [
    "#Precision, Recall, F1 Score\n",
    "print('Precision: ', precision_score(y_train, y_train_pred, pos_label='ckd'))\n",
    "print('Recall: ', recall_score(y_train, y_train_pred, pos_label='ckd'))\n",
    "print('F1 Score: ', f1_score(y_train, y_train_pred, pos_label='ckd'))"
   ]
  },
  {
   "cell_type": "code",
   "execution_count": 28,
   "metadata": {},
   "outputs": [
    {
     "name": "stdout",
     "output_type": "stream",
     "text": [
      "ROC AUC Score:  0.9994414101290964\n"
     ]
    }
   ],
   "source": [
    "#ROC AUC Score\n",
    "y_scores = cross_val_predict(poly_kernal_svm_clf, ckd_prepared, y_train, cv=3, method=\"decision_function\")\n",
    "print('ROC AUC Score: ', roc_auc_score(y_train, y_scores))"
   ]
  },
  {
   "cell_type": "markdown",
   "metadata": {},
   "source": [
    "# Guassian RBF Kernal"
   ]
  },
  {
   "cell_type": "code",
   "execution_count": 29,
   "metadata": {},
   "outputs": [
    {
     "name": "stdout",
     "output_type": "stream",
     "text": [
      "Accuracy:  [0.5862069  0.59302326 0.58823529]\n",
      "\n",
      "Average Accuracy:  0.5891551488277749\n"
     ]
    }
   ],
   "source": [
    "rbf_kernal_svm_clf = SVC(kernel='rbf', gamma=5, C=0.001)\n",
    "scores = cross_val_score(rbf_kernal_svm_clf, ckd_prepared, y_train, cv=3, scoring='accuracy')\n",
    "\n",
    "print('Accuracy: ', scores)\n",
    "print('\\nAverage Accuracy: ', sum(scores) / len(scores))"
   ]
  },
  {
   "cell_type": "code",
   "execution_count": 30,
   "metadata": {},
   "outputs": [
    {
     "data": {
      "text/plain": [
       "array([[152,   0],\n",
       "       [106,   0]], dtype=int64)"
      ]
     },
     "execution_count": 30,
     "metadata": {},
     "output_type": "execute_result"
    }
   ],
   "source": [
    "#Confusion Matrix\n",
    "y_train_pred = cross_val_predict(rbf_kernal_svm_clf, ckd_prepared, y_train, cv=3)\n",
    "confusion_matrix(y_train, y_train_pred)"
   ]
  },
  {
   "cell_type": "code",
   "execution_count": 31,
   "metadata": {},
   "outputs": [
    {
     "name": "stdout",
     "output_type": "stream",
     "text": [
      "Precision:  0.5891472868217055\n",
      "Recall:  1.0\n",
      "F1 Score:  0.7414634146341463\n"
     ]
    }
   ],
   "source": [
    "#Precision, Recall, F1 Score\n",
    "print('Precision: ', precision_score(y_train, y_train_pred, pos_label='ckd'))\n",
    "print('Recall: ', recall_score(y_train, y_train_pred, pos_label='ckd'))\n",
    "print('F1 Score: ', f1_score(y_train, y_train_pred, pos_label='ckd'))"
   ]
  },
  {
   "cell_type": "code",
   "execution_count": 32,
   "metadata": {},
   "outputs": [
    {
     "name": "stdout",
     "output_type": "stream",
     "text": [
      "ROC AUC Score:  0.9887040714995036\n"
     ]
    }
   ],
   "source": [
    "#ROC AUC Score\n",
    "y_scores = cross_val_predict(rbf_kernal_svm_clf, ckd_prepared, y_train, cv=3, method=\"decision_function\")\n",
    "print('ROC AUC Score: ', roc_auc_score(y_train, y_scores))"
   ]
  },
  {
   "cell_type": "markdown",
   "metadata": {},
   "source": [
    "# Decision Tree"
   ]
  },
  {
   "cell_type": "code",
   "execution_count": 33,
   "metadata": {},
   "outputs": [
    {
     "name": "stdout",
     "output_type": "stream",
     "text": [
      "Accuracy:  [0.95402299 0.93023256 0.96470588]\n",
      "\n",
      "Average Accuracy:  0.9496538096660744\n"
     ]
    }
   ],
   "source": [
    "from sklearn.tree import DecisionTreeClassifier\n",
    "\n",
    "tree_clf = DecisionTreeClassifier(max_depth=3)\n",
    "scores = cross_val_score(tree_clf, ckd_prepared, y_train, cv=3, scoring='accuracy')\n",
    "\n",
    "print('Accuracy: ', scores)\n",
    "print('\\nAverage Accuracy: ', sum(scores) / len(scores))"
   ]
  },
  {
   "cell_type": "code",
   "execution_count": 34,
   "metadata": {},
   "outputs": [
    {
     "data": {
      "text/plain": [
       "array([[145,   7],\n",
       "       [  6, 100]], dtype=int64)"
      ]
     },
     "execution_count": 34,
     "metadata": {},
     "output_type": "execute_result"
    }
   ],
   "source": [
    "#Confusion Matrix\n",
    "y_train_pred = cross_val_predict(tree_clf, ckd_prepared, y_train, cv=3)\n",
    "confusion_matrix(y_train, y_train_pred)"
   ]
  },
  {
   "cell_type": "code",
   "execution_count": 35,
   "metadata": {},
   "outputs": [
    {
     "name": "stdout",
     "output_type": "stream",
     "text": [
      "Precision:  0.9602649006622517\n",
      "Recall:  0.9539473684210527\n",
      "F1 Score:  0.9570957095709571\n"
     ]
    }
   ],
   "source": [
    "#Precision, Recall, F1 Score\n",
    "print('Precision: ', precision_score(y_train, y_train_pred, pos_label='ckd'))\n",
    "print('Recall: ', recall_score(y_train, y_train_pred, pos_label='ckd'))\n",
    "print('F1 Score: ', f1_score(y_train, y_train_pred, pos_label='ckd'))"
   ]
  },
  {
   "cell_type": "code",
   "execution_count": 36,
   "metadata": {},
   "outputs": [
    {
     "name": "stdout",
     "output_type": "stream",
     "text": [
      "ROC AUC Score:  0.9659260178748759\n"
     ]
    }
   ],
   "source": [
    "#ROC AUC Score\n",
    "y_scores = cross_val_predict(tree_clf, ckd_prepared, y_train, cv=3, method=\"predict_proba\")\n",
    "print('ROC AUC Score: ', roc_auc_score(y_train, y_scores[:,1]))"
   ]
  },
  {
   "cell_type": "markdown",
   "metadata": {},
   "source": [
    "# Random Forest"
   ]
  },
  {
   "cell_type": "code",
   "execution_count": 37,
   "metadata": {},
   "outputs": [
    {
     "name": "stdout",
     "output_type": "stream",
     "text": [
      "Accuracy:  [0.98850575 0.98837209 1.        ]\n",
      "\n",
      "Average Accuracy:  0.9922926133832308\n"
     ]
    }
   ],
   "source": [
    "from sklearn.ensemble import RandomForestClassifier\n",
    "\n",
    "rnd_clf = RandomForestClassifier(n_estimators=500, max_leaf_nodes=16, n_jobs=-1)\n",
    "scores = cross_val_score(rnd_clf, ckd_prepared, y_train, cv=3, scoring='accuracy')\n",
    "\n",
    "print('Accuracy: ', scores)\n",
    "print('\\nAverage Accuracy: ', sum(scores) / len(scores))"
   ]
  },
  {
   "cell_type": "code",
   "execution_count": 38,
   "metadata": {},
   "outputs": [
    {
     "data": {
      "text/plain": [
       "array([[151,   1],\n",
       "       [  1, 105]], dtype=int64)"
      ]
     },
     "execution_count": 38,
     "metadata": {},
     "output_type": "execute_result"
    }
   ],
   "source": [
    "#Confusion Matrix\n",
    "y_train_pred = cross_val_predict(rnd_clf, ckd_prepared, y_train, cv=3)\n",
    "confusion_matrix(y_train, y_train_pred)"
   ]
  },
  {
   "cell_type": "code",
   "execution_count": 39,
   "metadata": {},
   "outputs": [
    {
     "name": "stdout",
     "output_type": "stream",
     "text": [
      "Precision:  0.993421052631579\n",
      "Recall:  0.993421052631579\n",
      "F1 Score:  0.993421052631579\n"
     ]
    }
   ],
   "source": [
    "#Precision, Recall, F1 Score\n",
    "print('Precision: ', precision_score(y_train, y_train_pred, pos_label='ckd'))\n",
    "print('Recall: ', recall_score(y_train, y_train_pred, pos_label='ckd'))\n",
    "print('F1 Score: ', f1_score(y_train, y_train_pred, pos_label='ckd'))"
   ]
  },
  {
   "cell_type": "code",
   "execution_count": 40,
   "metadata": {},
   "outputs": [
    {
     "name": "stdout",
     "output_type": "stream",
     "text": [
      "ROC AUC Score:  0.9999379344587884\n"
     ]
    }
   ],
   "source": [
    "#ROC AUC Score\n",
    "y_scores = cross_val_predict(rnd_clf, ckd_prepared, y_train, cv=3, method=\"predict_proba\")\n",
    "print('ROC AUC Score: ', roc_auc_score(y_train, y_scores[:,1]))"
   ]
  },
  {
   "cell_type": "code",
   "execution_count": 41,
   "metadata": {},
   "outputs": [
    {
     "data": {
      "text/plain": [
       "[(0.21889170808617894, 'Hemoglobin'),\n",
       " (0.11987608234258187, 'Packed Cell Volume'),\n",
       " (0.1131382156747147, 'Serum Creatinine'),\n",
       " (0.10351992545298914, 'Albumin_0.0'),\n",
       " (0.05214420585337931, 'Specific Gravity_1.01'),\n",
       " (0.04528180191933722, 'Hypertension_no'),\n",
       " (0.03718167459154563, 'Hypertension_yes'),\n",
       " (0.02954629352924955, 'Sodium'),\n",
       " (0.027881074880667742, 'Blood Glucose Random'),\n",
       " (0.026957787471255244, 'Blood Urea'),\n",
       " (0.025346163280618443, 'Specific Gravity_1.025'),\n",
       " (0.023337786309198874, 'Diabetes Mellitus_yes'),\n",
       " (0.023259631667502518, 'Diabetes Mellitus_no'),\n",
       " (0.022870220178826266, 'Specific Gravity_1.015'),\n",
       " (0.017161529037825227, 'Blood Pressure'),\n",
       " (0.014828869849325417, 'Pus Cell_abnormal'),\n",
       " (0.013431290100899001, 'Specific Gravity_1.02'),\n",
       " (0.01243802839335332, 'Pus Cell_normal'),\n",
       " (0.012089808968072064, 'Age'),\n",
       " (0.010088120085393905, 'Appetite_good'),\n",
       " (0.008703666080091394, 'Appetite_poor'),\n",
       " (0.00857353751139382, 'Potassium'),\n",
       " (0.005653121903562136, 'Albumin_1.0'),\n",
       " (0.005248220420346214, 'Pedal Edema_no'),\n",
       " (0.004811172672238639, 'Pedal Edema_yes'),\n",
       " (0.004764556341710012, 'Sugar_0.0'),\n",
       " (0.0025415712430616436, 'Albumin_3.0'),\n",
       " (0.002217818950945002, 'Anemia_yes'),\n",
       " (0.001775278689805927, 'Anemia_no'),\n",
       " (0.0017050454895458336, 'Albumin_2.0'),\n",
       " (0.0015658454259590662, 'Sugar_4.0'),\n",
       " (0.0009749315547002097, 'Sugar_1.0'),\n",
       " (0.0005436170572085482, 'Albumin_4.0'),\n",
       " (0.0004572027915246883, 'Pus Cell Clumps_notpresent'),\n",
       " (0.00042892242910716737, 'Pus Cell Clumps_present'),\n",
       " (0.0002723664636826851, 'Bacteria_present'),\n",
       " (0.0001868715598637596, 'Sugar_2.0'),\n",
       " (0.0001699337175488858, 'Specific Gravity_1.005'),\n",
       " (7.731876577002434e-05, 'Coronary Artery Disease_yes'),\n",
       " (5.878325902004537e-05, 'Sugar_3.0'),\n",
       " (0.0, 'Sugar_5.0'),\n",
       " (0.0, 'Coronary Artery Disease_no'),\n",
       " (0.0, 'Bacteria_notpresent'),\n",
       " (0.0, 'Albumin_5.0')]"
      ]
     },
     "execution_count": 41,
     "metadata": {},
     "output_type": "execute_result"
    }
   ],
   "source": [
    "#Feature Importance\n",
    "rnd_clf.fit(ckd_prepared, y_train)\n",
    "feature_importance = rnd_clf.feature_importances_\n",
    "cat_encoder = full_pipeline.named_transformers_[\"cat\"]\n",
    "\n",
    "def encoded_col_names(col_names, enc_col):\n",
    "    result = list()\n",
    "    for col_name, col_values in zip(col_names, enc_col):\n",
    "        for val in col_values:\n",
    "            result.append(str(col_name) + '_' + str(val))\n",
    "    return result\n",
    "\n",
    "enc_attribs = encoded_col_names(cat_attribs, cat_encoder.categories_)\n",
    "col_names = num_attribs + enc_attribs\n",
    "sorted(zip(feature_importance, col_names), reverse=True) "
   ]
  },
  {
   "cell_type": "markdown",
   "metadata": {},
   "source": [
    "# AdaBoost"
   ]
  },
  {
   "cell_type": "code",
   "execution_count": 42,
   "metadata": {},
   "outputs": [
    {
     "name": "stdout",
     "output_type": "stream",
     "text": [
      "Accuracy:  [0.98850575 0.95348837 0.97647059]\n",
      "\n",
      "Average Accuracy:  0.9728215691515847\n"
     ]
    }
   ],
   "source": [
    "from sklearn.ensemble import AdaBoostClassifier\n",
    "\n",
    "ada_clf = AdaBoostClassifier(\n",
    "    DecisionTreeClassifier(max_depth=1), n_estimators=200,\n",
    "    algorithm='SAMME.R', learning_rate=0.5)\n",
    "scores = cross_val_score(ada_clf, ckd_prepared, y_train, cv=3, scoring='accuracy')\n",
    "\n",
    "print('Accuracy: ', scores)\n",
    "print('\\nAverage Accuracy: ', sum(scores) / len(scores))"
   ]
  },
  {
   "cell_type": "code",
   "execution_count": 43,
   "metadata": {},
   "outputs": [
    {
     "data": {
      "text/plain": [
       "array([[145,   7],\n",
       "       [  0, 106]], dtype=int64)"
      ]
     },
     "execution_count": 43,
     "metadata": {},
     "output_type": "execute_result"
    }
   ],
   "source": [
    "#Confusion Matrix\n",
    "y_train_pred = cross_val_predict(ada_clf, ckd_prepared, y_train, cv=3)\n",
    "confusion_matrix(y_train, y_train_pred)"
   ]
  },
  {
   "cell_type": "code",
   "execution_count": 44,
   "metadata": {},
   "outputs": [
    {
     "name": "stdout",
     "output_type": "stream",
     "text": [
      "Precision:  1.0\n",
      "Recall:  0.9539473684210527\n",
      "F1 Score:  0.9764309764309764\n"
     ]
    }
   ],
   "source": [
    "#Precision, Recall, F1 Score\n",
    "print('Precision: ', precision_score(y_train, y_train_pred, pos_label='ckd'))\n",
    "print('Recall: ', recall_score(y_train, y_train_pred, pos_label='ckd'))\n",
    "print('F1 Score: ', f1_score(y_train, y_train_pred, pos_label='ckd'))"
   ]
  },
  {
   "cell_type": "code",
   "execution_count": 45,
   "metadata": {},
   "outputs": [
    {
     "name": "stdout",
     "output_type": "stream",
     "text": [
      "ROC AUC Score:  1.0\n"
     ]
    }
   ],
   "source": [
    "#ROC AUC Score\n",
    "y_scores = cross_val_predict(ada_clf, ckd_prepared, y_train, cv=3, method=\"predict_proba\")\n",
    "print('ROC AUC Score: ', roc_auc_score(y_train, y_scores[:,1]))"
   ]
  },
  {
   "cell_type": "markdown",
   "metadata": {},
   "source": [
    "# Gradient Boosting"
   ]
  },
  {
   "cell_type": "code",
   "execution_count": 46,
   "metadata": {},
   "outputs": [
    {
     "name": "stdout",
     "output_type": "stream",
     "text": [
      "Accuracy:  [0.97701149 0.98837209 0.96470588]\n",
      "\n",
      "Average Accuracy:  0.9766964898763568\n"
     ]
    }
   ],
   "source": [
    "from sklearn.ensemble import GradientBoostingClassifier\n",
    "\n",
    "gbc_clf = GradientBoostingClassifier(max_depth=2, n_estimators=200, learning_rate=1)\n",
    "scores = cross_val_score(gbc_clf, ckd_prepared, y_train, cv=3, scoring='accuracy')\n",
    "\n",
    "print('Accuracy: ', scores)\n",
    "print('\\nAverage Accuracy: ', sum(scores) / len(scores))"
   ]
  },
  {
   "cell_type": "code",
   "execution_count": 47,
   "metadata": {},
   "outputs": [
    {
     "data": {
      "text/plain": [
       "array([[148,   4],\n",
       "       [  2, 104]], dtype=int64)"
      ]
     },
     "execution_count": 47,
     "metadata": {},
     "output_type": "execute_result"
    }
   ],
   "source": [
    "#Confusion Matrix\n",
    "y_train_pred = cross_val_predict(gbc_clf, ckd_prepared, y_train, cv=3)\n",
    "confusion_matrix(y_train, y_train_pred)"
   ]
  },
  {
   "cell_type": "code",
   "execution_count": 48,
   "metadata": {},
   "outputs": [
    {
     "name": "stdout",
     "output_type": "stream",
     "text": [
      "Precision:  0.9866666666666667\n",
      "Recall:  0.9736842105263158\n",
      "F1 Score:  0.9801324503311258\n"
     ]
    }
   ],
   "source": [
    "#Precision, Recall, F1 Score\n",
    "print('Precision: ', precision_score(y_train, y_train_pred, pos_label='ckd'))\n",
    "print('Recall: ', recall_score(y_train, y_train_pred, pos_label='ckd'))\n",
    "print('F1 Score: ', f1_score(y_train, y_train_pred, pos_label='ckd'))"
   ]
  },
  {
   "cell_type": "code",
   "execution_count": 49,
   "metadata": {},
   "outputs": [
    {
     "name": "stdout",
     "output_type": "stream",
     "text": [
      "ROC AUC Score:  0.9976415094339621\n"
     ]
    }
   ],
   "source": [
    "#ROC AUC Score\n",
    "y_scores = cross_val_predict(gbc_clf, ckd_prepared, y_train, cv=3, method=\"predict_proba\")\n",
    "print('ROC AUC Score: ', roc_auc_score(y_train, y_scores[:,1]))"
   ]
  },
  {
   "cell_type": "markdown",
   "metadata": {},
   "source": [
    "# Voting Classifier"
   ]
  },
  {
   "cell_type": "code",
   "execution_count": 50,
   "metadata": {},
   "outputs": [
    {
     "name": "stdout",
     "output_type": "stream",
     "text": [
      "Accuracy:  [0.98850575 0.98837209 1.        ]\n",
      "\n",
      "Average Accuracy:  0.9922926133832308\n"
     ]
    }
   ],
   "source": [
    "from sklearn.ensemble import VotingClassifier\n",
    "\n",
    "voting_clf = VotingClassifier(\n",
    "    estimators=[('gbc', gbc_clf), ('ada', ada_clf), ('rnd', rnd_clf), ('tree', tree_clf), ('kern_svm', poly_kernal_svm_clf)],\n",
    "    voting='hard')\n",
    "scores = cross_val_score(voting_clf, ckd_prepared, y_train, cv=3, scoring='accuracy')\n",
    "\n",
    "print('Accuracy: ', scores)\n",
    "print('\\nAverage Accuracy: ', sum(scores) / len(scores))"
   ]
  },
  {
   "cell_type": "code",
   "execution_count": 51,
   "metadata": {},
   "outputs": [
    {
     "data": {
      "text/plain": [
       "array([[151,   1],\n",
       "       [  0, 106]], dtype=int64)"
      ]
     },
     "execution_count": 51,
     "metadata": {},
     "output_type": "execute_result"
    }
   ],
   "source": [
    "#Confusion Matrix\n",
    "y_train_pred = cross_val_predict(voting_clf, ckd_prepared, y_train, cv=3)\n",
    "confusion_matrix(y_train, y_train_pred)"
   ]
  },
  {
   "cell_type": "code",
   "execution_count": 52,
   "metadata": {},
   "outputs": [
    {
     "name": "stdout",
     "output_type": "stream",
     "text": [
      "Precision:  1.0\n",
      "Recall:  0.993421052631579\n",
      "F1 Score:  0.9966996699669968\n"
     ]
    }
   ],
   "source": [
    "#Precision, Recall, F1 Score\n",
    "print('Precision: ', precision_score(y_train, y_train_pred, pos_label='ckd'))\n",
    "print('Recall: ', recall_score(y_train, y_train_pred, pos_label='ckd'))\n",
    "print('F1 Score: ', f1_score(y_train, y_train_pred, pos_label='ckd'))"
   ]
  },
  {
   "cell_type": "markdown",
   "metadata": {},
   "source": [
    "# Principal Component Analysis (PCA)"
   ]
  },
  {
   "cell_type": "code",
   "execution_count": 53,
   "metadata": {},
   "outputs": [
    {
     "name": "stdout",
     "output_type": "stream",
     "text": [
      "Number of Components:  26\n",
      "Accuracy:  [0.94252874 0.98837209 0.94117647]\n",
      "\n",
      "Average Accuracy:  0.9573590997478917\n"
     ]
    }
   ],
   "source": [
    "from sklearn.decomposition import PCA\n",
    "\n",
    "pca = PCA(n_components=0.99)\n",
    "ckd_reduced = pca.fit_transform(ckd_prepared)\n",
    "\n",
    "#Voting Classifier with reduced dataset\n",
    "voting_clf = VotingClassifier(\n",
    "    estimators=[('gbc', gbc_clf), ('ada', ada_clf), ('rnd', rnd_clf), ('tree', tree_clf), ('kern_svm', poly_kernal_svm_clf)],\n",
    "    voting='hard')\n",
    "scores = cross_val_score(voting_clf, ckd_reduced, y_train, cv=3, scoring='accuracy')\n",
    "\n",
    "print('Number of Components: ', pca.n_components_)\n",
    "print('Accuracy: ', scores)\n",
    "print('\\nAverage Accuracy: ', sum(scores) / len(scores))"
   ]
  },
  {
   "cell_type": "code",
   "execution_count": 54,
   "metadata": {},
   "outputs": [
    {
     "data": {
      "text/plain": [
       "array([[146,   6],\n",
       "       [  3, 103]], dtype=int64)"
      ]
     },
     "execution_count": 54,
     "metadata": {},
     "output_type": "execute_result"
    }
   ],
   "source": [
    "#Confusion Matrix\n",
    "y_train_pred = cross_val_predict(voting_clf, ckd_reduced, y_train, cv=3)\n",
    "confusion_matrix(y_train, y_train_pred)"
   ]
  },
  {
   "cell_type": "code",
   "execution_count": 55,
   "metadata": {},
   "outputs": [
    {
     "name": "stdout",
     "output_type": "stream",
     "text": [
      "Precision:  0.9798657718120806\n",
      "Recall:  0.9605263157894737\n",
      "F1 Score:  0.9700996677740865\n"
     ]
    }
   ],
   "source": [
    "#Precision, Recall, F1 Score\n",
    "print('Precision: ', precision_score(y_train, y_train_pred, pos_label='ckd'))\n",
    "print('Recall: ', recall_score(y_train, y_train_pred, pos_label='ckd'))\n",
    "print('F1 Score: ', f1_score(y_train, y_train_pred, pos_label='ckd'))"
   ]
  },
  {
   "cell_type": "markdown",
   "metadata": {},
   "source": [
    "# Final Model On Test Set"
   ]
  },
  {
   "cell_type": "code",
   "execution_count": 56,
   "metadata": {},
   "outputs": [
    {
     "data": {
      "text/plain": [
       "1.0"
      ]
     },
     "execution_count": 56,
     "metadata": {},
     "output_type": "execute_result"
    }
   ],
   "source": [
    "#Selected model: Voting Classifier\n",
    "from sklearn.metrics import mean_squared_error\n",
    "\n",
    "final_model = voting_clf.fit(ckd_prepared, y_train)\n",
    "\n",
    "X_test_prepared = full_pipeline.transform(X_test)\n",
    "\n",
    "final_predictions = final_model.predict(X_test_prepared)\n",
    "from sklearn.metrics import accuracy_score\n",
    "accuracy_score(y_test, final_predictions)"
   ]
  },
  {
   "cell_type": "code",
   "execution_count": 57,
   "metadata": {},
   "outputs": [
    {
     "data": {
      "text/plain": [
       "array([[38,  0],\n",
       "       [ 0, 27]], dtype=int64)"
      ]
     },
     "execution_count": 57,
     "metadata": {},
     "output_type": "execute_result"
    }
   ],
   "source": [
    "#Confusion Matrix\n",
    "confusion_matrix(y_test, final_predictions)"
   ]
  },
  {
   "cell_type": "code",
   "execution_count": 58,
   "metadata": {},
   "outputs": [
    {
     "name": "stdout",
     "output_type": "stream",
     "text": [
      "Precision:  1.0\n",
      "Recall:  1.0\n",
      "F1 Score:  1.0\n"
     ]
    }
   ],
   "source": [
    "#Precision, Recall, F1 Score\n",
    "print('Precision: ', precision_score(y_test, final_predictions, pos_label='ckd'))\n",
    "print('Recall: ', recall_score(y_test, final_predictions, pos_label='ckd'))\n",
    "print('F1 Score: ', f1_score(y_test, final_predictions, pos_label='ckd'))"
   ]
  }
 ],
 "metadata": {
  "kernelspec": {
   "display_name": "Python 3",
   "language": "python",
   "name": "python3"
  },
  "language_info": {
   "codemirror_mode": {
    "name": "ipython",
    "version": 3
   },
   "file_extension": ".py",
   "mimetype": "text/x-python",
   "name": "python",
   "nbconvert_exporter": "python",
   "pygments_lexer": "ipython3",
   "version": "3.6.5"
  }
 },
 "nbformat": 4,
 "nbformat_minor": 2
}
