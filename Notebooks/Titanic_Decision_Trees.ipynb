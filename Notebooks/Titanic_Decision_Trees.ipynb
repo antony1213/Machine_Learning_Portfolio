{
 "cells": [
  {
   "cell_type": "code",
   "execution_count": 33,
   "metadata": {},
   "outputs": [],
   "source": [
    "import sklearn.datasets as datasets\n",
    "import pandas as pd\n",
    "\n",
    "df = pd.read_csv('../Datasets/Titanic/train.csv')\n",
    "df.drop(['Name', 'Ticket', 'Cabin', 'PassengerId'], axis=1, inplace=True)\n",
    "\n",
    "def score_to_numeric(x):\n",
    "    if x=='male':\n",
    "        return 0\n",
    "    if x=='female':\n",
    "        return 1\n",
    "    \n",
    "def score_to_numeric2(x):\n",
    "    if x=='C':\n",
    "        return 0\n",
    "    if x=='S':\n",
    "        return 1\n",
    "    if x=='Q':\n",
    "        return 2\n",
    "\n",
    "df['Sex'] = df['Sex'].apply(score_to_numeric)\n",
    "df['Embarked'] = df['Embarked'].apply(score_to_numeric2)\n",
    "\n",
    "df[\"Age\"].fillna(df[\"Age\"].mean(), inplace=True)\n",
    "df[\"Embarked\"].fillna(df[\"Embarked\"].mean(), inplace=True)\n",
    "\n",
    "X_train = df.drop('Survived', axis=1)  \n",
    "y_train = df['Survived'] "
   ]
  },
  {
   "cell_type": "code",
   "execution_count": 34,
   "metadata": {},
   "outputs": [],
   "source": [
    "df_test = pd.read_csv('../Datasets/Titanic/test.csv')\n",
    "test_pred = pd.read_csv('../Datasets/Titanic/gender_submission.csv')\n",
    "\n",
    "df_test.drop(['Name', 'Ticket', 'Cabin', 'PassengerId'], axis=1, inplace=True)\n",
    "\n",
    "df_test['Sex'] = df_test['Sex'].apply(score_to_numeric)\n",
    "df_test['Embarked'] = df_test['Embarked'].apply(score_to_numeric2)\n",
    "\n",
    "df_test[\"Age\"].fillna(df_test[\"Age\"].mean(), inplace=True)\n",
    "df_test[\"Embarked\"].fillna(df_test[\"Embarked\"].mean(), inplace=True)\n",
    "df_test[\"Fare\"].fillna(df_test[\"Fare\"].mean(), inplace=True)\n",
    "\n",
    "X_test = df_test\n",
    "y_test = test_pred.drop('PassengerId', axis=1)  "
   ]
  },
  {
   "cell_type": "code",
   "execution_count": 76,
   "metadata": {},
   "outputs": [
    {
     "name": "stdout",
     "output_type": "stream",
     "text": [
      "[[260   6]\n",
      " [  6 146]]\n",
      "             precision    recall  f1-score   support\n",
      "\n",
      "          0       0.98      0.98      0.98       266\n",
      "          1       0.96      0.96      0.96       152\n",
      "\n",
      "avg / total       0.97      0.97      0.97       418\n",
      "\n"
     ]
    }
   ],
   "source": [
    "from sklearn.tree import DecisionTreeClassifier  \n",
    "classifier = DecisionTreeClassifier(criterion = \"gini\", random_state = 100,\n",
    "                               max_depth=3, min_samples_leaf=5)  \n",
    "classifier.fit(X_train, y_train)  \n",
    "\n",
    "y_pred = classifier.predict(X_test)  \n",
    "\n",
    "from sklearn.metrics import classification_report, confusion_matrix  \n",
    "print(confusion_matrix(y_test, y_pred))  \n",
    "print(classification_report(y_test, y_pred))  "
   ]
  },
  {
   "cell_type": "code",
   "execution_count": 86,
   "metadata": {},
   "outputs": [
    {
     "name": "stdout",
     "output_type": "stream",
     "text": [
      "=== Confusion Matrix ===\n",
      "[[266   0]\n",
      " [  0 152]]\n",
      "\n",
      "\n",
      "=== Classification Report ===\n",
      "             precision    recall  f1-score   support\n",
      "\n",
      "          0       1.00      1.00      1.00       266\n",
      "          1       1.00      1.00      1.00       152\n",
      "\n",
      "avg / total       1.00      1.00      1.00       418\n",
      "\n",
      "\n",
      "\n"
     ]
    },
    {
     "data": {
      "text/plain": [
       "Sex         0.880276\n",
       "Fare        0.101765\n",
       "Pclass      0.014281\n",
       "Age         0.003238\n",
       "SibSp       0.000440\n",
       "Embarked    0.000000\n",
       "Parch       0.000000\n",
       "dtype: float64"
      ]
     },
     "execution_count": 86,
     "metadata": {},
     "output_type": "execute_result"
    }
   ],
   "source": [
    "# Import the model we are using\n",
    "from sklearn.ensemble import RandomForestRegressor\n",
    "\n",
    "# Instantiate model with 1000 decision trees\n",
    "rf = RandomForestRegressor(n_estimators = 100, n_jobs = -1,random_state =50,max_features = \"auto\", min_samples_leaf = 100)\n",
    "\n",
    "# Train the model on training data\n",
    "rf.fit(X_train, y_train);\n",
    "\n",
    "# Use the forest's predict method on the test data\n",
    "y_pred = rf.predict(X_test)\n",
    "\n",
    "\n",
    "from sklearn.model_selection import cross_val_score\n",
    "from sklearn.metrics import classification_report, confusion_matrix\n",
    "\n",
    "print(\"=== Confusion Matrix ===\")\n",
    "print(confusion_matrix(y_test, y_pred.round()))\n",
    "print('\\n')\n",
    "\n",
    "print(\"=== Classification Report ===\")\n",
    "print(classification_report(y_test, y_pred.round()))\n",
    "print('\\n')\n",
    "\n",
    "import pandas as pd\n",
    "feature_imp = pd.Series(rf.feature_importances_,index=X_test.columns).sort_values(ascending=False)\n",
    "feature_imp"
   ]
  },
  {
   "cell_type": "code",
   "execution_count": null,
   "metadata": {},
   "outputs": [],
   "source": []
  }
 ],
 "metadata": {
  "kernelspec": {
   "display_name": "Python 3",
   "language": "python",
   "name": "python3"
  },
  "language_info": {
   "codemirror_mode": {
    "name": "ipython",
    "version": 3
   },
   "file_extension": ".py",
   "mimetype": "text/x-python",
   "name": "python",
   "nbconvert_exporter": "python",
   "pygments_lexer": "ipython3",
   "version": "3.6.4"
  }
 },
 "nbformat": 4,
 "nbformat_minor": 2
}
